{
 "cells": [
  {
   "cell_type": "markdown",
   "id": "41a5ffb4",
   "metadata": {},
   "source": [
    "## Accessing help and getting object types"
   ]
  },
  {
   "cell_type": "code",
   "execution_count": 1,
   "id": "a4617e74",
   "metadata": {},
   "outputs": [
    {
     "data": {
      "text/plain": [
       "2"
      ]
     },
     "execution_count": 1,
     "metadata": {},
     "output_type": "execute_result"
    }
   ],
   "source": [
    "1 + 1 # hash symbol work as comments in codes"
   ]
  },
  {
   "cell_type": "code",
   "execution_count": 2,
   "id": "fb1f5be4",
   "metadata": {},
   "outputs": [
    {
     "name": "stdout",
     "output_type": "stream",
     "text": [
      "Help on built-in function max in module builtins:\n",
      "\n",
      "max(...)\n",
      "    max(iterable, *[, default=obj, key=func]) -> value\n",
      "    max(arg1, arg2, *args, *[, key=func]) -> value\n",
      "    \n",
      "    With a single iterable argument, return its biggest item. The\n",
      "    default keyword-only argument specifies an object to return if\n",
      "    the provided iterable is empty.\n",
      "    With two or more arguments, return the largest argument.\n",
      "\n"
     ]
    }
   ],
   "source": [
    "help(max) # display the documentation for the max function"
   ]
  },
  {
   "cell_type": "code",
   "execution_count": 4,
   "id": "44f466b1",
   "metadata": {},
   "outputs": [
    {
     "data": {
      "text/plain": [
       "str"
      ]
     },
     "execution_count": 4,
     "metadata": {},
     "output_type": "execute_result"
    }
   ],
   "source": [
    "type('a') # Get the type of an object - returns str meaning its a string"
   ]
  },
  {
   "cell_type": "markdown",
   "id": "387d486d",
   "metadata": {},
   "source": [
    "## Importing packages"
   ]
  },
  {
   "cell_type": "markdown",
   "id": "47cd9091",
   "metadata": {},
   "source": [
    "Python packages are a collection of useful tools developed by the open-source community. They extend the \n",
    "capabilities of the python language. To install a new package (for example, pandas), you can go to your command \n",
    "prompt and type in pip install pandas. Once a package is installed, you can import it as follows."
   ]
  },
  {
   "cell_type": "code",
   "execution_count": 5,
   "id": "59bf54b0",
   "metadata": {},
   "outputs": [],
   "source": [
    "import pandas # Import a package without an alias"
   ]
  },
  {
   "cell_type": "code",
   "execution_count": 6,
   "id": "e18cf277",
   "metadata": {},
   "outputs": [],
   "source": [
    "import pandas as pd # Import a package with an alias"
   ]
  },
  {
   "cell_type": "code",
   "execution_count": 7,
   "id": "fd7766e8",
   "metadata": {},
   "outputs": [],
   "source": [
    "from pandas import DataFrame # Import an object from a package"
   ]
  },
  {
   "cell_type": "markdown",
   "id": "b0bc39bc",
   "metadata": {},
   "source": [
    "## The working directory"
   ]
  },
  {
   "cell_type": "markdown",
   "id": "b4d2e87c",
   "metadata": {},
   "source": [
    "The working directory is the default file path that python reads or saves files into. An example of the working directory \n",
    "is ”C://file/path\". The os library is needed to set and get the working directory."
   ]
  },
  {
   "cell_type": "code",
   "execution_count": 9,
   "id": "9f9d7403",
   "metadata": {},
   "outputs": [],
   "source": [
    "import os # Import the operating system package"
   ]
  },
  {
   "cell_type": "code",
   "execution_count": 10,
   "id": "2142ad5f",
   "metadata": {},
   "outputs": [
    {
     "data": {
      "text/plain": [
       "'C:\\\\Users\\\\TanveerKader\\\\Desktop\\\\New folder (3)\\\\playing-with-py'"
      ]
     },
     "execution_count": 10,
     "metadata": {},
     "output_type": "execute_result"
    }
   ],
   "source": [
    "os.getcwd() # Get the current directory"
   ]
  },
  {
   "cell_type": "code",
   "execution_count": null,
   "id": "5b995026",
   "metadata": {},
   "outputs": [],
   "source": [
    "os.setcwd(\"new/working/directory\") # Set the working directory to a new file path"
   ]
  },
  {
   "cell_type": "markdown",
   "id": "ea5f8188",
   "metadata": {},
   "source": [
    "## Operators"
   ]
  },
  {
   "cell_type": "markdown",
   "id": "f9d10c9e",
   "metadata": {},
   "source": [
    "### Arithmatic operators"
   ]
  },
  {
   "cell_type": "code",
   "execution_count": 11,
   "id": "a60bdd27",
   "metadata": {},
   "outputs": [
    {
     "data": {
      "text/plain": [
       "132"
      ]
     },
     "execution_count": 11,
     "metadata": {},
     "output_type": "execute_result"
    }
   ],
   "source": [
    "102 + 30 # Add two numbers with +"
   ]
  },
  {
   "cell_type": "code",
   "execution_count": 12,
   "id": "d2ee5da8",
   "metadata": {},
   "outputs": [
    {
     "data": {
      "text/plain": [
       "72"
      ]
     },
     "execution_count": 12,
     "metadata": {},
     "output_type": "execute_result"
    }
   ],
   "source": [
    "102 - 30 # Subtract a number with -"
   ]
  },
  {
   "cell_type": "code",
   "execution_count": 13,
   "id": "8eb7329a",
   "metadata": {},
   "outputs": [
    {
     "data": {
      "text/plain": [
       "24"
      ]
     },
     "execution_count": 13,
     "metadata": {},
     "output_type": "execute_result"
    }
   ],
   "source": [
    "4 * 6 # Multipy two numbers with *"
   ]
  },
  {
   "cell_type": "code",
   "execution_count": 14,
   "id": "8100080c",
   "metadata": {},
   "outputs": [
    {
     "data": {
      "text/plain": [
       "3.142857142857143"
      ]
     },
     "execution_count": 14,
     "metadata": {},
     "output_type": "execute_result"
    }
   ],
   "source": [
    "22 / 7 # Divide a number by another with /"
   ]
  },
  {
   "cell_type": "code",
   "execution_count": 15,
   "id": "c1324cbe",
   "metadata": {},
   "outputs": [
    {
     "data": {
      "text/plain": [
       "3"
      ]
     },
     "execution_count": 15,
     "metadata": {},
     "output_type": "execute_result"
    }
   ],
   "source": [
    "22 // 7 # Integer divide a number with //"
   ]
  },
  {
   "cell_type": "code",
   "execution_count": 16,
   "id": "eaf545f6",
   "metadata": {},
   "outputs": [
    {
     "data": {
      "text/plain": [
       "729"
      ]
     },
     "execution_count": 16,
     "metadata": {},
     "output_type": "execute_result"
    }
   ],
   "source": [
    "3 ** 6 # Raise to the power with ** "
   ]
  },
  {
   "cell_type": "code",
   "execution_count": 17,
   "id": "0b0ff919",
   "metadata": {},
   "outputs": [
    {
     "data": {
      "text/plain": [
       "1"
      ]
     },
     "execution_count": 17,
     "metadata": {},
     "output_type": "execute_result"
    }
   ],
   "source": [
    "22 % 7 # Get the remainder after division with %"
   ]
  },
  {
   "cell_type": "markdown",
   "id": "1cd9bc67",
   "metadata": {},
   "source": [
    "### Assignment operators"
   ]
  },
  {
   "cell_type": "code",
   "execution_count": 18,
   "id": "b5ea59be",
   "metadata": {},
   "outputs": [],
   "source": [
    "a = 5 # Assign a value to a"
   ]
  },
  {
   "cell_type": "code",
   "execution_count": 24,
   "id": "58384a7f",
   "metadata": {},
   "outputs": [],
   "source": [
    "x = [1, 2, 3] # Declare a list"
   ]
  },
  {
   "cell_type": "code",
   "execution_count": 25,
   "id": "b92e1c03",
   "metadata": {},
   "outputs": [],
   "source": [
    "x[0] = 3 # Change the value of an item in a list"
   ]
  },
  {
   "cell_type": "markdown",
   "id": "6b6b241a",
   "metadata": {},
   "source": [
    "### Numeric comparison operators"
   ]
  },
  {
   "cell_type": "code",
   "execution_count": 26,
   "id": "3a4615d1",
   "metadata": {},
   "outputs": [
    {
     "data": {
      "text/plain": [
       "True"
      ]
     },
     "execution_count": 26,
     "metadata": {},
     "output_type": "execute_result"
    }
   ],
   "source": [
    "3 == 3 # Test for equality with =="
   ]
  },
  {
   "cell_type": "code",
   "execution_count": 27,
   "id": "c9d03a4b",
   "metadata": {},
   "outputs": [
    {
     "data": {
      "text/plain": [
       "False"
      ]
     },
     "execution_count": 27,
     "metadata": {},
     "output_type": "execute_result"
    }
   ],
   "source": [
    "3 != 3 # Test inequality with !="
   ]
  },
  {
   "cell_type": "code",
   "execution_count": 28,
   "id": "56b3e9c5",
   "metadata": {},
   "outputs": [
    {
     "data": {
      "text/plain": [
       "True"
      ]
     },
     "execution_count": 28,
     "metadata": {},
     "output_type": "execute_result"
    }
   ],
   "source": [
    "3 > 1 # Test greater than with >"
   ]
  },
  {
   "cell_type": "code",
   "execution_count": 31,
   "id": "475f4041",
   "metadata": {},
   "outputs": [
    {
     "data": {
      "text/plain": [
       "True"
      ]
     },
     "execution_count": 31,
     "metadata": {},
     "output_type": "execute_result"
    }
   ],
   "source": [
    "3 >= 3 # Test greater than or equal to with >="
   ]
  },
  {
   "cell_type": "code",
   "execution_count": 32,
   "id": "c7ff2317",
   "metadata": {},
   "outputs": [
    {
     "data": {
      "text/plain": [
       "True"
      ]
     },
     "execution_count": 32,
     "metadata": {},
     "output_type": "execute_result"
    }
   ],
   "source": [
    "3 < 4 # Test less than with <"
   ]
  },
  {
   "cell_type": "code",
   "execution_count": 33,
   "id": "b3697357",
   "metadata": {},
   "outputs": [
    {
     "data": {
      "text/plain": [
       "True"
      ]
     },
     "execution_count": 33,
     "metadata": {},
     "output_type": "execute_result"
    }
   ],
   "source": [
    "3 <= 4 # Test less than or equal to with <="
   ]
  },
  {
   "cell_type": "markdown",
   "id": "a099f7a0",
   "metadata": {},
   "source": [
    "### Logical operators"
   ]
  },
  {
   "cell_type": "code",
   "execution_count": 36,
   "id": "1e7494b8",
   "metadata": {},
   "outputs": [
    {
     "data": {
      "text/plain": [
       "-2"
      ]
     },
     "execution_count": 36,
     "metadata": {},
     "output_type": "execute_result"
    }
   ],
   "source": [
    "~(2 == 2) # Logical NOT with ~"
   ]
  },
  {
   "cell_type": "code",
   "execution_count": 37,
   "id": "01e0623a",
   "metadata": {},
   "outputs": [
    {
     "data": {
      "text/plain": [
       "False"
      ]
     },
     "execution_count": 37,
     "metadata": {},
     "output_type": "execute_result"
    }
   ],
   "source": [
    "(1 != 1) & (1 < 1) # Logical AND with &"
   ]
  },
  {
   "cell_type": "code",
   "execution_count": 38,
   "id": "ab40f00d",
   "metadata": {},
   "outputs": [
    {
     "data": {
      "text/plain": [
       "True"
      ]
     },
     "execution_count": 38,
     "metadata": {},
     "output_type": "execute_result"
    }
   ],
   "source": [
    "(1 >= 1) | (1 < 1) # Logical OR with |"
   ]
  },
  {
   "cell_type": "code",
   "execution_count": 39,
   "id": "d919d06c",
   "metadata": {},
   "outputs": [
    {
     "data": {
      "text/plain": [
       "False"
      ]
     },
     "execution_count": 39,
     "metadata": {},
     "output_type": "execute_result"
    }
   ],
   "source": [
    "(1 != 1) ^ (1 < 1) # Logical XOR with ^"
   ]
  },
  {
   "cell_type": "markdown",
   "id": "78be6931",
   "metadata": {},
   "source": [
    "## Getting started with lists"
   ]
  },
  {
   "cell_type": "markdown",
   "id": "6573bb14",
   "metadata": {},
   "source": [
    "A list is an ordered and changeable sequence of elements. It can hold integers, characters, floats, strings, and even objects."
   ]
  },
  {
   "cell_type": "markdown",
   "id": "e0f846fa",
   "metadata": {},
   "source": [
    "### Creating lists"
   ]
  },
  {
   "cell_type": "code",
   "execution_count": 42,
   "id": "9a28b763",
   "metadata": {},
   "outputs": [],
   "source": [
    "x = [1, 3, 2] # Create lists with [], elements separated by commas"
   ]
  },
  {
   "cell_type": "markdown",
   "id": "6270d58a",
   "metadata": {},
   "source": [
    "### List functions and methods"
   ]
  },
  {
   "cell_type": "code",
   "execution_count": 44,
   "id": "c96d0b29",
   "metadata": {},
   "outputs": [
    {
     "data": {
      "text/plain": [
       "[1, 2, 3]"
      ]
     },
     "execution_count": 44,
     "metadata": {},
     "output_type": "execute_result"
    }
   ],
   "source": [
    "sorted(x) # Return a sorted copy of the list"
   ]
  },
  {
   "cell_type": "code",
   "execution_count": 47,
   "id": "5e93c879",
   "metadata": {},
   "outputs": [
    {
     "data": {
      "text/plain": [
       "[1, 3, 2]"
      ]
     },
     "execution_count": 47,
     "metadata": {},
     "output_type": "execute_result"
    }
   ],
   "source": [
    "x # The orignal one remains"
   ]
  },
  {
   "cell_type": "code",
   "execution_count": 48,
   "id": "64ae189d",
   "metadata": {},
   "outputs": [],
   "source": [
    "x.sort() # Sorts the list in-place (replaces x)"
   ]
  },
  {
   "cell_type": "code",
   "execution_count": 49,
   "id": "a6ffcd8c",
   "metadata": {},
   "outputs": [
    {
     "data": {
      "text/plain": [
       "[1, 2, 3]"
      ]
     },
     "execution_count": 49,
     "metadata": {},
     "output_type": "execute_result"
    }
   ],
   "source": [
    "x"
   ]
  },
  {
   "cell_type": "code",
   "execution_count": 51,
   "id": "1decc82d",
   "metadata": {},
   "outputs": [
    {
     "data": {
      "text/plain": [
       "<list_reverseiterator at 0x20964cf94b0>"
      ]
     },
     "execution_count": 51,
     "metadata": {},
     "output_type": "execute_result"
    }
   ],
   "source": [
    "reversed(x) # Reverse the order of elements in x"
   ]
  },
  {
   "cell_type": "code",
   "execution_count": 54,
   "id": "47e2b967",
   "metadata": {},
   "outputs": [],
   "source": [
    "x.reverse() # Reverse the list in-place"
   ]
  },
  {
   "cell_type": "code",
   "execution_count": 55,
   "id": "ac915f5d",
   "metadata": {},
   "outputs": [
    {
     "data": {
      "text/plain": [
       "[3, 2, 1]"
      ]
     },
     "execution_count": 55,
     "metadata": {},
     "output_type": "execute_result"
    }
   ],
   "source": [
    "x"
   ]
  },
  {
   "cell_type": "code",
   "execution_count": 56,
   "id": "79999705",
   "metadata": {},
   "outputs": [
    {
     "data": {
      "text/plain": [
       "1"
      ]
     },
     "execution_count": 56,
     "metadata": {},
     "output_type": "execute_result"
    }
   ],
   "source": [
    "x.count(2) # Count the number of element 2 in the list"
   ]
  },
  {
   "cell_type": "markdown",
   "id": "cef34c45",
   "metadata": {},
   "source": [
    "### Selecting list elements"
   ]
  },
  {
   "cell_type": "markdown",
   "id": "d3cca5c6",
   "metadata": {},
   "source": [
    "Python lists are zero-indexed (the first element has index 0).  For ranges, the first element is included but the last is not."
   ]
  },
  {
   "cell_type": "code",
   "execution_count": 58,
   "id": "9ac72bf8",
   "metadata": {},
   "outputs": [],
   "source": [
    "x = ['a', 'b', 'c', 'd', 'e'] # Define a list"
   ]
  },
  {
   "cell_type": "code",
   "execution_count": 59,
   "id": "244e13aa",
   "metadata": {},
   "outputs": [
    {
     "data": {
      "text/plain": [
       "'a'"
      ]
     },
     "execution_count": 59,
     "metadata": {},
     "output_type": "execute_result"
    }
   ],
   "source": [
    "x[0] # Select the 0th element in the list"
   ]
  },
  {
   "cell_type": "code",
   "execution_count": 60,
   "id": "62a39f33",
   "metadata": {},
   "outputs": [
    {
     "data": {
      "text/plain": [
       "'e'"
      ]
     },
     "execution_count": 60,
     "metadata": {},
     "output_type": "execute_result"
    }
   ],
   "source": [
    "x[-1] # Select the last element in the list"
   ]
  },
  {
   "cell_type": "code",
   "execution_count": 61,
   "id": "99464ce2",
   "metadata": {},
   "outputs": [
    {
     "data": {
      "text/plain": [
       "['b', 'c']"
      ]
     },
     "execution_count": 61,
     "metadata": {},
     "output_type": "execute_result"
    }
   ],
   "source": [
    "x[1:3] # Select 1st (inclusive) to 3rd (exclusive)"
   ]
  },
  {
   "cell_type": "code",
   "execution_count": 62,
   "id": "fe20f33b",
   "metadata": {},
   "outputs": [
    {
     "data": {
      "text/plain": [
       "['c', 'd', 'e']"
      ]
     },
     "execution_count": 62,
     "metadata": {},
     "output_type": "execute_result"
    }
   ],
   "source": [
    "x[2:] # Select the 2nd to the end"
   ]
  },
  {
   "cell_type": "code",
   "execution_count": 63,
   "id": "5186983b",
   "metadata": {},
   "outputs": [
    {
     "data": {
      "text/plain": [
       "['a', 'b', 'c']"
      ]
     },
     "execution_count": 63,
     "metadata": {},
     "output_type": "execute_result"
    }
   ],
   "source": [
    "x[:3] # Select 0th to 3rd (exclusive)"
   ]
  },
  {
   "cell_type": "markdown",
   "id": "30fc8650",
   "metadata": {},
   "source": [
    "### Concatenating lists"
   ]
  },
  {
   "cell_type": "code",
   "execution_count": 64,
   "id": "4dfe2ed6",
   "metadata": {},
   "outputs": [],
   "source": [
    "# Define the x and y lists\n",
    "x = [1, 3, 6]\n",
    "y = [10, 15, 21]"
   ]
  },
  {
   "cell_type": "code",
   "execution_count": 65,
   "id": "7d56a900",
   "metadata": {},
   "outputs": [
    {
     "data": {
      "text/plain": [
       "[1, 3, 6, 10, 15, 21]"
      ]
     },
     "execution_count": 65,
     "metadata": {},
     "output_type": "execute_result"
    }
   ],
   "source": [
    "x + y # Concatenate both lists"
   ]
  },
  {
   "cell_type": "code",
   "execution_count": 66,
   "id": "82979650",
   "metadata": {},
   "outputs": [
    {
     "data": {
      "text/plain": [
       "[1, 3, 6, 1, 3, 6, 1, 3, 6]"
      ]
     },
     "execution_count": 66,
     "metadata": {},
     "output_type": "execute_result"
    }
   ],
   "source": [
    "3 * x # Concatenate x 3 times"
   ]
  },
  {
   "cell_type": "markdown",
   "id": "c0aa6ea1",
   "metadata": {},
   "source": [
    "## Getting started with dictionaries"
   ]
  },
  {
   "cell_type": "markdown",
   "id": "9f880013",
   "metadata": {},
   "source": [
    "A dictionary stores data values in key-value pairs. That is, unlike lists which are indexed by position, dictionaries are indexed \n",
    "by their keys, the names of which must be unique."
   ]
  },
  {
   "cell_type": "markdown",
   "id": "af199955",
   "metadata": {},
   "source": [
    "### Creating dictionaries"
   ]
  },
  {
   "cell_type": "code",
   "execution_count": 69,
   "id": "7974b5ad",
   "metadata": {},
   "outputs": [
    {
     "data": {
      "text/plain": [
       "{'a': 1, 'b': 4, 'c': 9}"
      ]
     },
     "execution_count": 69,
     "metadata": {},
     "output_type": "execute_result"
    }
   ],
   "source": [
    "# Create a dictionary with {}\n",
    "{'a': 1, 'b': 4, 'c': 9}"
   ]
  },
  {
   "cell_type": "markdown",
   "id": "0aae16dd",
   "metadata": {},
   "source": [
    "### Dictionary functions and methods"
   ]
  },
  {
   "cell_type": "code",
   "execution_count": 70,
   "id": "355bdffe",
   "metadata": {},
   "outputs": [],
   "source": [
    "x = {'a': 1, 'b': 2, 'c': 3} # Define the x dictionary"
   ]
  },
  {
   "cell_type": "code",
   "execution_count": 71,
   "id": "401261ad",
   "metadata": {},
   "outputs": [
    {
     "data": {
      "text/plain": [
       "dict_keys(['a', 'b', 'c'])"
      ]
     },
     "execution_count": 71,
     "metadata": {},
     "output_type": "execute_result"
    }
   ],
   "source": [
    "x.keys() # Get the keys of a dictionary"
   ]
  },
  {
   "cell_type": "code",
   "execution_count": 72,
   "id": "58b4015b",
   "metadata": {},
   "outputs": [
    {
     "data": {
      "text/plain": [
       "dict_values([1, 2, 3])"
      ]
     },
     "execution_count": 72,
     "metadata": {},
     "output_type": "execute_result"
    }
   ],
   "source": [
    "x.values() # Get the values of a dictionary"
   ]
  },
  {
   "cell_type": "markdown",
   "id": "1706ba8f",
   "metadata": {},
   "source": [
    "### Selecting dictionary elements"
   ]
  },
  {
   "cell_type": "code",
   "execution_count": 74,
   "id": "2e90f0f1",
   "metadata": {},
   "outputs": [
    {
     "data": {
      "text/plain": [
       "1"
      ]
     },
     "execution_count": 74,
     "metadata": {},
     "output_type": "execute_result"
    }
   ],
   "source": [
    "x['a'] # Get a value from a dictinary by specifying the key"
   ]
  },
  {
   "cell_type": "markdown",
   "id": "e40c3408",
   "metadata": {},
   "source": [
    "## NumPy arrays"
   ]
  },
  {
   "cell_type": "markdown",
   "id": "1564c56b",
   "metadata": {},
   "source": [
    "NumPy is a python package for scientific computing. It provides multidimensional array objects and efficient operations \n",
    "on them. To import NumPy, you can run this Python code import numpy as np"
   ]
  },
  {
   "cell_type": "code",
   "execution_count": 76,
   "id": "944d1743",
   "metadata": {},
   "outputs": [],
   "source": [
    "import numpy as np # Import numpy package with alias np"
   ]
  },
  {
   "cell_type": "code",
   "execution_count": 77,
   "id": "10f9d181",
   "metadata": {},
   "outputs": [
    {
     "data": {
      "text/plain": [
       "array([1, 2, 3])"
      ]
     },
     "execution_count": 77,
     "metadata": {},
     "output_type": "execute_result"
    }
   ],
   "source": [
    "np.array([1, 2, 3]) # Convert a python list to a NumPy array"
   ]
  },
  {
   "cell_type": "code",
   "execution_count": 81,
   "id": "9d76a959",
   "metadata": {},
   "outputs": [
    {
     "data": {
      "text/plain": [
       "array([1, 2, 3, 4])"
      ]
     },
     "execution_count": 81,
     "metadata": {},
     "output_type": "execute_result"
    }
   ],
   "source": [
    "# Return a sequence from start (inclusive) to end (exclusive)\n",
    "np.arange(1, 5)"
   ]
  },
  {
   "cell_type": "code",
   "execution_count": 82,
   "id": "86f4d812",
   "metadata": {},
   "outputs": [
    {
     "data": {
      "text/plain": [
       "array([1, 3])"
      ]
     },
     "execution_count": 82,
     "metadata": {},
     "output_type": "execute_result"
    }
   ],
   "source": [
    "# Return a stepped sequence from start (inclusive) to end (exclusive)\n",
    "np.arange(1, 5, 2)"
   ]
  },
  {
   "cell_type": "code",
   "execution_count": 84,
   "id": "7eb906a8",
   "metadata": {},
   "outputs": [
    {
     "data": {
      "text/plain": [
       "array([1, 1, 1, 3, 3, 3, 6, 6, 6])"
      ]
     },
     "execution_count": 84,
     "metadata": {},
     "output_type": "execute_result"
    }
   ],
   "source": [
    "np.repeat([1, 3, 6], 3) # Repeat values n times (same value together)"
   ]
  },
  {
   "cell_type": "code",
   "execution_count": 85,
   "id": "e6e2a3a5",
   "metadata": {},
   "outputs": [
    {
     "data": {
      "text/plain": [
       "array([1, 3, 6, 1, 3, 6, 1, 3, 6])"
      ]
     },
     "execution_count": 85,
     "metadata": {},
     "output_type": "execute_result"
    }
   ],
   "source": [
    "np.tile([1, 3, 6], 3) # Repeat values n times (repeat the whole list)"
   ]
  },
  {
   "cell_type": "markdown",
   "id": "3d989bc0",
   "metadata": {},
   "source": [
    "## Math functions and methods"
   ]
  },
  {
   "cell_type": "markdown",
   "id": "b6ada0d1",
   "metadata": {},
   "source": [
    "All functions take an array as the input"
   ]
  },
  {
   "cell_type": "code",
   "execution_count": 89,
   "id": "34ba6faf",
   "metadata": {},
   "outputs": [
    {
     "data": {
      "text/plain": [
       "2.995732273553991"
      ]
     },
     "execution_count": 89,
     "metadata": {},
     "output_type": "execute_result"
    }
   ],
   "source": [
    "np.log(20) # Calculate logarithm"
   ]
  },
  {
   "cell_type": "code",
   "execution_count": 90,
   "id": "231bde3f",
   "metadata": {},
   "outputs": [
    {
     "data": {
      "text/plain": [
       "403.4287934927351"
      ]
     },
     "execution_count": 90,
     "metadata": {},
     "output_type": "execute_result"
    }
   ],
   "source": [
    "np.exp(6) # Calculate expotential"
   ]
  },
  {
   "cell_type": "code",
   "execution_count": 91,
   "id": "065d67da",
   "metadata": {},
   "outputs": [],
   "source": [
    "x = [1, 3, 6, 7, 9]"
   ]
  },
  {
   "cell_type": "code",
   "execution_count": 92,
   "id": "fd883ecf",
   "metadata": {},
   "outputs": [
    {
     "data": {
      "text/plain": [
       "9"
      ]
     },
     "execution_count": 92,
     "metadata": {},
     "output_type": "execute_result"
    }
   ],
   "source": [
    "np.max(x) # Get maximum value"
   ]
  },
  {
   "cell_type": "code",
   "execution_count": 93,
   "id": "a756ec36",
   "metadata": {},
   "outputs": [
    {
     "data": {
      "text/plain": [
       "1"
      ]
     },
     "execution_count": 93,
     "metadata": {},
     "output_type": "execute_result"
    }
   ],
   "source": [
    "np.min(x) # Get minimum value"
   ]
  },
  {
   "cell_type": "code",
   "execution_count": 94,
   "id": "6af4451d",
   "metadata": {},
   "outputs": [
    {
     "data": {
      "text/plain": [
       "26"
      ]
     },
     "execution_count": 94,
     "metadata": {},
     "output_type": "execute_result"
    }
   ],
   "source": [
    "np.sum(x) # Calculate sum"
   ]
  },
  {
   "cell_type": "code",
   "execution_count": 95,
   "id": "7e97a6c9",
   "metadata": {},
   "outputs": [
    {
     "data": {
      "text/plain": [
       "5.2"
      ]
     },
     "execution_count": 95,
     "metadata": {},
     "output_type": "execute_result"
    }
   ],
   "source": [
    "np.mean(x) # Calcutate mean"
   ]
  },
  {
   "cell_type": "code",
   "execution_count": 104,
   "id": "871267ef",
   "metadata": {},
   "outputs": [
    {
     "data": {
      "text/plain": [
       "6.0"
      ]
     },
     "execution_count": 104,
     "metadata": {},
     "output_type": "execute_result"
    }
   ],
   "source": [
    "# Calculate q-th qantile (Quantiles must be in the range [0, 1])\n",
    "np.quantile(x, .5)"
   ]
  },
  {
   "cell_type": "code",
   "execution_count": 108,
   "id": "c14d9a1f",
   "metadata": {},
   "outputs": [],
   "source": [
    "x = [1.3243, 3.4356, 6.6456, 7.8678, 9.124] # List of float numbers"
   ]
  },
  {
   "cell_type": "code",
   "execution_count": 110,
   "id": "5f31faa3",
   "metadata": {},
   "outputs": [
    {
     "data": {
      "text/plain": [
       "array([1.32, 3.44, 6.65, 7.87, 9.12])"
      ]
     },
     "execution_count": 110,
     "metadata": {},
     "output_type": "execute_result"
    }
   ],
   "source": [
    "np.round(x, 2) # Round to n decimal places (here 2)"
   ]
  },
  {
   "cell_type": "code",
   "execution_count": 111,
   "id": "1b35ad6b",
   "metadata": {},
   "outputs": [
    {
     "data": {
      "text/plain": [
       "8.3178881184"
      ]
     },
     "execution_count": 111,
     "metadata": {},
     "output_type": "execute_result"
    }
   ],
   "source": [
    "np.var(x) # Calculate variance"
   ]
  },
  {
   "cell_type": "code",
   "execution_count": 112,
   "id": "1549f1f1",
   "metadata": {},
   "outputs": [
    {
     "data": {
      "text/plain": [
       "2.884074915531842"
      ]
     },
     "execution_count": 112,
     "metadata": {},
     "output_type": "execute_result"
    }
   ],
   "source": [
    "np.std(x) # Calculate standard deviation"
   ]
  },
  {
   "cell_type": "markdown",
   "id": "bcedb74e",
   "metadata": {},
   "source": [
    "### Getting started with characters and strings"
   ]
  },
  {
   "cell_type": "code",
   "execution_count": 113,
   "id": "0ca9e266",
   "metadata": {},
   "outputs": [
    {
     "data": {
      "text/plain": [
       "'DataCamp'"
      ]
     },
     "execution_count": 113,
     "metadata": {},
     "output_type": "execute_result"
    }
   ],
   "source": [
    "# Create a string with double or single quotes\n",
    "\"DataCamp\""
   ]
  },
  {
   "cell_type": "code",
   "execution_count": 114,
   "id": "70835092",
   "metadata": {},
   "outputs": [
    {
     "data": {
      "text/plain": [
       "'He said, \"DataCamp\"'"
      ]
     },
     "execution_count": 114,
     "metadata": {},
     "output_type": "execute_result"
    }
   ],
   "source": [
    "# Embed a quote in string with escape character \\\n",
    "\"He said, \\\"DataCamp\\\"\""
   ]
  },
  {
   "cell_type": "code",
   "execution_count": 127,
   "id": "0ab57c42",
   "metadata": {},
   "outputs": [
    {
     "name": "stdout",
     "output_type": "stream",
     "text": [
      "\n",
      "কেও কারও মত হতে পারে না।\n",
      "সবাই হয় তার নিজের মত।\n",
      "তুমি হাজার চেষ্টা করেও তোমার চাচার বা বাবার মত হতে পারবে না।\n",
      "সব মানুষই আলাদা।\n",
      "― Humayun Ahmed, অপেক্ষা\n",
      "\n"
     ]
    }
   ],
   "source": [
    "# Create multi-line strings with triple quotes\n",
    "print(\"\"\"\n",
    "কেও কারও মত হতে পারে না।\n",
    "সবাই হয় তার নিজের মত।\n",
    "তুমি হাজার চেষ্টা করেও তোমার চাচার বা বাবার মত হতে পারবে না।\n",
    "সব মানুষই আলাদা।\n",
    "― Humayun Ahmed, অপেক্ষা\n",
    "\"\"\")"
   ]
  },
  {
   "cell_type": "code",
   "execution_count": 129,
   "id": "7e72bdc7",
   "metadata": {},
   "outputs": [],
   "source": [
    "str = \"DataCamp\""
   ]
  },
  {
   "cell_type": "code",
   "execution_count": 130,
   "id": "96fa66eb",
   "metadata": {},
   "outputs": [
    {
     "data": {
      "text/plain": [
       "'D'"
      ]
     },
     "execution_count": 130,
     "metadata": {},
     "output_type": "execute_result"
    }
   ],
   "source": [
    "str[0] # Get the character at a specific position"
   ]
  },
  {
   "cell_type": "code",
   "execution_count": 131,
   "id": "6fcf88f1",
   "metadata": {},
   "outputs": [
    {
     "data": {
      "text/plain": [
       "'Da'"
      ]
     },
     "execution_count": 131,
     "metadata": {},
     "output_type": "execute_result"
    }
   ],
   "source": [
    "str[0:2] # Get a substring from starting to ending index (exclusive)"
   ]
  },
  {
   "cell_type": "markdown",
   "id": "975792d8",
   "metadata": {},
   "source": [
    "### Combining and splitting strings"
   ]
  },
  {
   "cell_type": "code",
   "execution_count": 133,
   "id": "2e35f4d7",
   "metadata": {},
   "outputs": [
    {
     "data": {
      "text/plain": [
       "'DataFramed'"
      ]
     },
     "execution_count": 133,
     "metadata": {},
     "output_type": "execute_result"
    }
   ],
   "source": [
    "\"Data\" + \"Framed\" # Concatenate strings with +"
   ]
  },
  {
   "cell_type": "code",
   "execution_count": 134,
   "id": "04fc4aa9",
   "metadata": {},
   "outputs": [
    {
     "data": {
      "text/plain": [
       "'DataDataData'"
      ]
     },
     "execution_count": 134,
     "metadata": {},
     "output_type": "execute_result"
    }
   ],
   "source": [
    "3 * \"Data\" # Repeat strings with *"
   ]
  },
  {
   "cell_type": "code",
   "execution_count": 135,
   "id": "ef3ba8e1",
   "metadata": {},
   "outputs": [
    {
     "data": {
      "text/plain": [
       "['b', '', 'k', '', 'p', 'rs']"
      ]
     },
     "execution_count": 135,
     "metadata": {},
     "output_type": "execute_result"
    }
   ],
   "source": [
    "\"beekeepers\".split(\"e\") # Split a string on a delimiter"
   ]
  },
  {
   "cell_type": "markdown",
   "id": "7f727224",
   "metadata": {},
   "source": [
    "### Mutate strings"
   ]
  },
  {
   "cell_type": "code",
   "execution_count": 137,
   "id": "9dcba84e",
   "metadata": {},
   "outputs": [],
   "source": [
    "str = \"Jack and Jill\" # Define string"
   ]
  },
  {
   "cell_type": "code",
   "execution_count": 138,
   "id": "0c761a91",
   "metadata": {},
   "outputs": [
    {
     "data": {
      "text/plain": [
       "'JACK AND JILL'"
      ]
     },
     "execution_count": 138,
     "metadata": {},
     "output_type": "execute_result"
    }
   ],
   "source": [
    "str.upper() # Convert a string to uppercase"
   ]
  },
  {
   "cell_type": "code",
   "execution_count": 139,
   "id": "e84ea7bf",
   "metadata": {},
   "outputs": [
    {
     "data": {
      "text/plain": [
       "'jack and jill'"
      ]
     },
     "execution_count": 139,
     "metadata": {},
     "output_type": "execute_result"
    }
   ],
   "source": [
    "str.lower() # Convert a string to lowercase"
   ]
  },
  {
   "cell_type": "code",
   "execution_count": 140,
   "id": "22ff4c93",
   "metadata": {},
   "outputs": [
    {
     "data": {
      "text/plain": [
       "'Jack And Jill'"
      ]
     },
     "execution_count": 140,
     "metadata": {},
     "output_type": "execute_result"
    }
   ],
   "source": [
    "str.title() # Convert a string to titlecase"
   ]
  },
  {
   "cell_type": "code",
   "execution_count": 141,
   "id": "de627e89",
   "metadata": {},
   "outputs": [
    {
     "data": {
      "text/plain": [
       "'Pack and Pill'"
      ]
     },
     "execution_count": 141,
     "metadata": {},
     "output_type": "execute_result"
    }
   ],
   "source": [
    "str.replace(\"J\", \"P\") # Replace matches of a substring with another"
   ]
  },
  {
   "cell_type": "markdown",
   "id": "8181d8a5",
   "metadata": {},
   "source": [
    "## Getting started with DataFrames"
   ]
  },
  {
   "cell_type": "markdown",
   "id": "cfe71c33",
   "metadata": {},
   "source": [
    "Pandas is a fast and powerful package for data analysis and manipulation in python. To import the package, you can \n",
    "use import pandas as pd. A pandas DataFrame is a structure that contains two-dimensional data stored as rows and \n",
    "columns. A pandas series is a structure that contains one-dimensional data."
   ]
  },
  {
   "cell_type": "markdown",
   "id": "9175fb56",
   "metadata": {},
   "source": [
    "### Creating DataFrames"
   ]
  },
  {
   "cell_type": "code",
   "execution_count": 142,
   "id": "afde4079",
   "metadata": {},
   "outputs": [
    {
     "data": {
      "text/html": [
       "<div>\n",
       "<style scoped>\n",
       "    .dataframe tbody tr th:only-of-type {\n",
       "        vertical-align: middle;\n",
       "    }\n",
       "\n",
       "    .dataframe tbody tr th {\n",
       "        vertical-align: top;\n",
       "    }\n",
       "\n",
       "    .dataframe thead th {\n",
       "        text-align: right;\n",
       "    }\n",
       "</style>\n",
       "<table border=\"1\" class=\"dataframe\">\n",
       "  <thead>\n",
       "    <tr style=\"text-align: right;\">\n",
       "      <th></th>\n",
       "      <th>a</th>\n",
       "      <th>b</th>\n",
       "      <th>c</th>\n",
       "    </tr>\n",
       "  </thead>\n",
       "  <tbody>\n",
       "    <tr>\n",
       "      <th>0</th>\n",
       "      <td>1</td>\n",
       "      <td>4</td>\n",
       "      <td>x</td>\n",
       "    </tr>\n",
       "    <tr>\n",
       "      <th>1</th>\n",
       "      <td>2</td>\n",
       "      <td>4</td>\n",
       "      <td>x</td>\n",
       "    </tr>\n",
       "    <tr>\n",
       "      <th>2</th>\n",
       "      <td>3</td>\n",
       "      <td>6</td>\n",
       "      <td>y</td>\n",
       "    </tr>\n",
       "  </tbody>\n",
       "</table>\n",
       "</div>"
      ],
      "text/plain": [
       "   a  b  c\n",
       "0  1  4  x\n",
       "1  2  4  x\n",
       "2  3  6  y"
      ]
     },
     "execution_count": 142,
     "metadata": {},
     "output_type": "execute_result"
    }
   ],
   "source": [
    "# Create dataframe from a dictionary\n",
    "pd.DataFrame({\n",
    "    'a': [1, 2, 3],\n",
    "    'b': np.array([4, 4, 6]),\n",
    "    'c': ['x', 'x', 'y']\n",
    "})"
   ]
  },
  {
   "cell_type": "code",
   "execution_count": 143,
   "id": "32006c8d",
   "metadata": {},
   "outputs": [
    {
     "data": {
      "text/html": [
       "<div>\n",
       "<style scoped>\n",
       "    .dataframe tbody tr th:only-of-type {\n",
       "        vertical-align: middle;\n",
       "    }\n",
       "\n",
       "    .dataframe tbody tr th {\n",
       "        vertical-align: top;\n",
       "    }\n",
       "\n",
       "    .dataframe thead th {\n",
       "        text-align: right;\n",
       "    }\n",
       "</style>\n",
       "<table border=\"1\" class=\"dataframe\">\n",
       "  <thead>\n",
       "    <tr style=\"text-align: right;\">\n",
       "      <th></th>\n",
       "      <th>a</th>\n",
       "      <th>b</th>\n",
       "      <th>c</th>\n",
       "    </tr>\n",
       "  </thead>\n",
       "  <tbody>\n",
       "    <tr>\n",
       "      <th>0</th>\n",
       "      <td>1</td>\n",
       "      <td>4</td>\n",
       "      <td>x</td>\n",
       "    </tr>\n",
       "    <tr>\n",
       "      <th>1</th>\n",
       "      <td>1</td>\n",
       "      <td>4</td>\n",
       "      <td>x</td>\n",
       "    </tr>\n",
       "    <tr>\n",
       "      <th>2</th>\n",
       "      <td>3</td>\n",
       "      <td>6</td>\n",
       "      <td>y</td>\n",
       "    </tr>\n",
       "  </tbody>\n",
       "</table>\n",
       "</div>"
      ],
      "text/plain": [
       "   a  b  c\n",
       "0  1  4  x\n",
       "1  1  4  x\n",
       "2  3  6  y"
      ]
     },
     "execution_count": 143,
     "metadata": {},
     "output_type": "execute_result"
    }
   ],
   "source": [
    "# Create dataframe from a list of dictionaries\n",
    "pd.DataFrame([\n",
    "     {'a': 1, 'b': 4, 'c': 'x'}, \n",
    "     {'a': 1, 'b': 4, 'c': 'x'}, \n",
    "     {'a': 3, 'b': 6, 'c': 'y'}\n",
    "])"
   ]
  },
  {
   "cell_type": "markdown",
   "id": "b5b0e5b1",
   "metadata": {},
   "source": [
    "### Selecting DataFrame elements"
   ]
  },
  {
   "cell_type": "markdown",
   "id": "8a9e10be",
   "metadata": {},
   "source": [
    "Select a row, column or element from a dataframe. Remember: all positions are from 0 not 1"
   ]
  },
  {
   "cell_type": "code",
   "execution_count": 149,
   "id": "1bebbe75",
   "metadata": {},
   "outputs": [
    {
     "data": {
      "text/html": [
       "<div>\n",
       "<style scoped>\n",
       "    .dataframe tbody tr th:only-of-type {\n",
       "        vertical-align: middle;\n",
       "    }\n",
       "\n",
       "    .dataframe tbody tr th {\n",
       "        vertical-align: top;\n",
       "    }\n",
       "\n",
       "    .dataframe thead th {\n",
       "        text-align: right;\n",
       "    }\n",
       "</style>\n",
       "<table border=\"1\" class=\"dataframe\">\n",
       "  <thead>\n",
       "    <tr style=\"text-align: right;\">\n",
       "      <th></th>\n",
       "      <th>a</th>\n",
       "      <th>b</th>\n",
       "      <th>c</th>\n",
       "    </tr>\n",
       "  </thead>\n",
       "  <tbody>\n",
       "    <tr>\n",
       "      <th>0</th>\n",
       "      <td>1</td>\n",
       "      <td>4</td>\n",
       "      <td>x</td>\n",
       "    </tr>\n",
       "    <tr>\n",
       "      <th>1</th>\n",
       "      <td>1</td>\n",
       "      <td>4</td>\n",
       "      <td>x</td>\n",
       "    </tr>\n",
       "    <tr>\n",
       "      <th>2</th>\n",
       "      <td>3</td>\n",
       "      <td>6</td>\n",
       "      <td>y</td>\n",
       "    </tr>\n",
       "    <tr>\n",
       "      <th>3</th>\n",
       "      <td>4</td>\n",
       "      <td>7</td>\n",
       "      <td>z</td>\n",
       "    </tr>\n",
       "  </tbody>\n",
       "</table>\n",
       "</div>"
      ],
      "text/plain": [
       "   a  b  c\n",
       "0  1  4  x\n",
       "1  1  4  x\n",
       "2  3  6  y\n",
       "3  4  7  z"
      ]
     },
     "execution_count": 149,
     "metadata": {},
     "output_type": "execute_result"
    }
   ],
   "source": [
    "df = pd.DataFrame([\n",
    "     {'a': 1, 'b': 4, 'c': 'x'}, \n",
    "     {'a': 1, 'b': 4, 'c': 'x'}, \n",
    "     {'a': 3, 'b': 6, 'c': 'y'},\n",
    "     {'a': 4, 'b': 7, 'c': 'z'}\n",
    "])\n",
    "df"
   ]
  },
  {
   "cell_type": "code",
   "execution_count": 150,
   "id": "0b406872",
   "metadata": {},
   "outputs": [
    {
     "data": {
      "text/plain": [
       "a    4\n",
       "b    7\n",
       "c    z\n",
       "Name: 3, dtype: object"
      ]
     },
     "execution_count": 150,
     "metadata": {},
     "output_type": "execute_result"
    }
   ],
   "source": [
    "# Select the 3rd row\n",
    "df.iloc[3]"
   ]
  },
  {
   "cell_type": "code",
   "execution_count": 151,
   "id": "935033fd",
   "metadata": {},
   "outputs": [
    {
     "data": {
      "text/plain": [
       "0    x\n",
       "1    x\n",
       "2    y\n",
       "3    z\n",
       "Name: c, dtype: object"
      ]
     },
     "execution_count": 151,
     "metadata": {},
     "output_type": "execute_result"
    }
   ],
   "source": [
    "# Select one column by name\n",
    "df['c']"
   ]
  },
  {
   "cell_type": "code",
   "execution_count": 152,
   "id": "0e740934",
   "metadata": {},
   "outputs": [
    {
     "data": {
      "text/html": [
       "<div>\n",
       "<style scoped>\n",
       "    .dataframe tbody tr th:only-of-type {\n",
       "        vertical-align: middle;\n",
       "    }\n",
       "\n",
       "    .dataframe tbody tr th {\n",
       "        vertical-align: top;\n",
       "    }\n",
       "\n",
       "    .dataframe thead th {\n",
       "        text-align: right;\n",
       "    }\n",
       "</style>\n",
       "<table border=\"1\" class=\"dataframe\">\n",
       "  <thead>\n",
       "    <tr style=\"text-align: right;\">\n",
       "      <th></th>\n",
       "      <th>a</th>\n",
       "      <th>c</th>\n",
       "    </tr>\n",
       "  </thead>\n",
       "  <tbody>\n",
       "    <tr>\n",
       "      <th>0</th>\n",
       "      <td>1</td>\n",
       "      <td>x</td>\n",
       "    </tr>\n",
       "    <tr>\n",
       "      <th>1</th>\n",
       "      <td>1</td>\n",
       "      <td>x</td>\n",
       "    </tr>\n",
       "    <tr>\n",
       "      <th>2</th>\n",
       "      <td>3</td>\n",
       "      <td>y</td>\n",
       "    </tr>\n",
       "    <tr>\n",
       "      <th>3</th>\n",
       "      <td>4</td>\n",
       "      <td>z</td>\n",
       "    </tr>\n",
       "  </tbody>\n",
       "</table>\n",
       "</div>"
      ],
      "text/plain": [
       "   a  c\n",
       "0  1  x\n",
       "1  1  x\n",
       "2  3  y\n",
       "3  4  z"
      ]
     },
     "execution_count": 152,
     "metadata": {},
     "output_type": "execute_result"
    }
   ],
   "source": [
    "# Select multiple columns by name\n",
    "df[['a', 'c']]"
   ]
  },
  {
   "cell_type": "code",
   "execution_count": 153,
   "id": "5431ef2e",
   "metadata": {},
   "outputs": [
    {
     "data": {
      "text/plain": [
       "0    x\n",
       "1    x\n",
       "2    y\n",
       "3    z\n",
       "Name: c, dtype: object"
      ]
     },
     "execution_count": 153,
     "metadata": {},
     "output_type": "execute_result"
    }
   ],
   "source": [
    "# Select 2nd column\n",
    "df.iloc[:, 2]"
   ]
  },
  {
   "cell_type": "code",
   "execution_count": 154,
   "id": "7b826723",
   "metadata": {},
   "outputs": [
    {
     "data": {
      "text/plain": [
       "'z'"
      ]
     },
     "execution_count": 154,
     "metadata": {},
     "output_type": "execute_result"
    }
   ],
   "source": [
    "# Select the element in the 3rd row, 2nd column\n",
    "df.iloc[3, 2]"
   ]
  },
  {
   "cell_type": "markdown",
   "id": "d3ff1bd8",
   "metadata": {},
   "source": [
    "### Manipulating DataFrames"
   ]
  },
  {
   "cell_type": "code",
   "execution_count": 163,
   "id": "78d854f4",
   "metadata": {},
   "outputs": [],
   "source": [
    "# Create a dataframe\n",
    "data_1 = pd.DataFrame({'Name': ['Tom', 'nick', 'krish', 'jack'],\n",
    "        'Age': [20, 21, 19, 18]})"
   ]
  },
  {
   "cell_type": "code",
   "execution_count": 164,
   "id": "783beeea",
   "metadata": {},
   "outputs": [
    {
     "data": {
      "text/html": [
       "<div>\n",
       "<style scoped>\n",
       "    .dataframe tbody tr th:only-of-type {\n",
       "        vertical-align: middle;\n",
       "    }\n",
       "\n",
       "    .dataframe tbody tr th {\n",
       "        vertical-align: top;\n",
       "    }\n",
       "\n",
       "    .dataframe thead th {\n",
       "        text-align: right;\n",
       "    }\n",
       "</style>\n",
       "<table border=\"1\" class=\"dataframe\">\n",
       "  <thead>\n",
       "    <tr style=\"text-align: right;\">\n",
       "      <th></th>\n",
       "      <th>Name</th>\n",
       "      <th>Age</th>\n",
       "    </tr>\n",
       "  </thead>\n",
       "  <tbody>\n",
       "    <tr>\n",
       "      <th>0</th>\n",
       "      <td>Tom</td>\n",
       "      <td>20</td>\n",
       "    </tr>\n",
       "    <tr>\n",
       "      <th>1</th>\n",
       "      <td>nick</td>\n",
       "      <td>21</td>\n",
       "    </tr>\n",
       "    <tr>\n",
       "      <th>2</th>\n",
       "      <td>krish</td>\n",
       "      <td>19</td>\n",
       "    </tr>\n",
       "    <tr>\n",
       "      <th>3</th>\n",
       "      <td>jack</td>\n",
       "      <td>18</td>\n",
       "    </tr>\n",
       "  </tbody>\n",
       "</table>\n",
       "</div>"
      ],
      "text/plain": [
       "    Name  Age\n",
       "0    Tom   20\n",
       "1   nick   21\n",
       "2  krish   19\n",
       "3   jack   18"
      ]
     },
     "execution_count": 164,
     "metadata": {},
     "output_type": "execute_result"
    }
   ],
   "source": [
    "data_1"
   ]
  },
  {
   "cell_type": "code",
   "execution_count": 165,
   "id": "1e1e2bb0",
   "metadata": {},
   "outputs": [],
   "source": [
    "# Create a dataframe\n",
    "data_2 = pd.DataFrame({'Name': ['mark', 'neom', 'jass', 'hedi'],\n",
    "        'Age': [24, 22, 16, 19]})"
   ]
  },
  {
   "cell_type": "code",
   "execution_count": 166,
   "id": "371a8224",
   "metadata": {},
   "outputs": [
    {
     "data": {
      "text/html": [
       "<div>\n",
       "<style scoped>\n",
       "    .dataframe tbody tr th:only-of-type {\n",
       "        vertical-align: middle;\n",
       "    }\n",
       "\n",
       "    .dataframe tbody tr th {\n",
       "        vertical-align: top;\n",
       "    }\n",
       "\n",
       "    .dataframe thead th {\n",
       "        text-align: right;\n",
       "    }\n",
       "</style>\n",
       "<table border=\"1\" class=\"dataframe\">\n",
       "  <thead>\n",
       "    <tr style=\"text-align: right;\">\n",
       "      <th></th>\n",
       "      <th>Name</th>\n",
       "      <th>Age</th>\n",
       "    </tr>\n",
       "  </thead>\n",
       "  <tbody>\n",
       "    <tr>\n",
       "      <th>0</th>\n",
       "      <td>mark</td>\n",
       "      <td>24</td>\n",
       "    </tr>\n",
       "    <tr>\n",
       "      <th>1</th>\n",
       "      <td>neom</td>\n",
       "      <td>22</td>\n",
       "    </tr>\n",
       "    <tr>\n",
       "      <th>2</th>\n",
       "      <td>jass</td>\n",
       "      <td>16</td>\n",
       "    </tr>\n",
       "    <tr>\n",
       "      <th>3</th>\n",
       "      <td>hedi</td>\n",
       "      <td>19</td>\n",
       "    </tr>\n",
       "  </tbody>\n",
       "</table>\n",
       "</div>"
      ],
      "text/plain": [
       "   Name  Age\n",
       "0  mark   24\n",
       "1  neom   22\n",
       "2  jass   16\n",
       "3  hedi   19"
      ]
     },
     "execution_count": 166,
     "metadata": {},
     "output_type": "execute_result"
    }
   ],
   "source": [
    "data_2"
   ]
  },
  {
   "cell_type": "code",
   "execution_count": 167,
   "id": "5c46747a",
   "metadata": {},
   "outputs": [
    {
     "data": {
      "text/html": [
       "<div>\n",
       "<style scoped>\n",
       "    .dataframe tbody tr th:only-of-type {\n",
       "        vertical-align: middle;\n",
       "    }\n",
       "\n",
       "    .dataframe tbody tr th {\n",
       "        vertical-align: top;\n",
       "    }\n",
       "\n",
       "    .dataframe thead th {\n",
       "        text-align: right;\n",
       "    }\n",
       "</style>\n",
       "<table border=\"1\" class=\"dataframe\">\n",
       "  <thead>\n",
       "    <tr style=\"text-align: right;\">\n",
       "      <th></th>\n",
       "      <th>Name</th>\n",
       "      <th>Age</th>\n",
       "    </tr>\n",
       "  </thead>\n",
       "  <tbody>\n",
       "    <tr>\n",
       "      <th>0</th>\n",
       "      <td>Tom</td>\n",
       "      <td>20</td>\n",
       "    </tr>\n",
       "    <tr>\n",
       "      <th>1</th>\n",
       "      <td>nick</td>\n",
       "      <td>21</td>\n",
       "    </tr>\n",
       "    <tr>\n",
       "      <th>2</th>\n",
       "      <td>krish</td>\n",
       "      <td>19</td>\n",
       "    </tr>\n",
       "    <tr>\n",
       "      <th>3</th>\n",
       "      <td>jack</td>\n",
       "      <td>18</td>\n",
       "    </tr>\n",
       "    <tr>\n",
       "      <th>0</th>\n",
       "      <td>mark</td>\n",
       "      <td>24</td>\n",
       "    </tr>\n",
       "    <tr>\n",
       "      <th>1</th>\n",
       "      <td>neom</td>\n",
       "      <td>22</td>\n",
       "    </tr>\n",
       "    <tr>\n",
       "      <th>2</th>\n",
       "      <td>jass</td>\n",
       "      <td>16</td>\n",
       "    </tr>\n",
       "    <tr>\n",
       "      <th>3</th>\n",
       "      <td>hedi</td>\n",
       "      <td>19</td>\n",
       "    </tr>\n",
       "  </tbody>\n",
       "</table>\n",
       "</div>"
      ],
      "text/plain": [
       "    Name  Age\n",
       "0    Tom   20\n",
       "1   nick   21\n",
       "2  krish   19\n",
       "3   jack   18\n",
       "0   mark   24\n",
       "1   neom   22\n",
       "2   jass   16\n",
       "3   hedi   19"
      ]
     },
     "execution_count": 167,
     "metadata": {},
     "output_type": "execute_result"
    }
   ],
   "source": [
    "# Concatenate DataFrames vertically\n",
    "pd.concat([data_1, data_2])"
   ]
  },
  {
   "cell_type": "code",
   "execution_count": 169,
   "id": "0e490bd6",
   "metadata": {},
   "outputs": [
    {
     "data": {
      "text/html": [
       "<div>\n",
       "<style scoped>\n",
       "    .dataframe tbody tr th:only-of-type {\n",
       "        vertical-align: middle;\n",
       "    }\n",
       "\n",
       "    .dataframe tbody tr th {\n",
       "        vertical-align: top;\n",
       "    }\n",
       "\n",
       "    .dataframe thead th {\n",
       "        text-align: right;\n",
       "    }\n",
       "</style>\n",
       "<table border=\"1\" class=\"dataframe\">\n",
       "  <thead>\n",
       "    <tr style=\"text-align: right;\">\n",
       "      <th></th>\n",
       "      <th>Name</th>\n",
       "      <th>Age</th>\n",
       "      <th>Name</th>\n",
       "      <th>Age</th>\n",
       "    </tr>\n",
       "  </thead>\n",
       "  <tbody>\n",
       "    <tr>\n",
       "      <th>0</th>\n",
       "      <td>Tom</td>\n",
       "      <td>20</td>\n",
       "      <td>mark</td>\n",
       "      <td>24</td>\n",
       "    </tr>\n",
       "    <tr>\n",
       "      <th>1</th>\n",
       "      <td>nick</td>\n",
       "      <td>21</td>\n",
       "      <td>neom</td>\n",
       "      <td>22</td>\n",
       "    </tr>\n",
       "    <tr>\n",
       "      <th>2</th>\n",
       "      <td>krish</td>\n",
       "      <td>19</td>\n",
       "      <td>jass</td>\n",
       "      <td>16</td>\n",
       "    </tr>\n",
       "    <tr>\n",
       "      <th>3</th>\n",
       "      <td>jack</td>\n",
       "      <td>18</td>\n",
       "      <td>hedi</td>\n",
       "      <td>19</td>\n",
       "    </tr>\n",
       "  </tbody>\n",
       "</table>\n",
       "</div>"
      ],
      "text/plain": [
       "    Name  Age  Name  Age\n",
       "0    Tom   20  mark   24\n",
       "1   nick   21  neom   22\n",
       "2  krish   19  jass   16\n",
       "3   jack   18  hedi   19"
      ]
     },
     "execution_count": 169,
     "metadata": {},
     "output_type": "execute_result"
    }
   ],
   "source": [
    "# Concatenate DataFrames horizontally\n",
    "pd.concat([data_1, data_2], axis=\"columns\")"
   ]
  },
  {
   "cell_type": "code",
   "execution_count": 178,
   "id": "a0787f94",
   "metadata": {},
   "outputs": [
    {
     "data": {
      "text/html": [
       "<div>\n",
       "<style scoped>\n",
       "    .dataframe tbody tr th:only-of-type {\n",
       "        vertical-align: middle;\n",
       "    }\n",
       "\n",
       "    .dataframe tbody tr th {\n",
       "        vertical-align: top;\n",
       "    }\n",
       "\n",
       "    .dataframe thead th {\n",
       "        text-align: right;\n",
       "    }\n",
       "</style>\n",
       "<table border=\"1\" class=\"dataframe\">\n",
       "  <thead>\n",
       "    <tr style=\"text-align: right;\">\n",
       "      <th></th>\n",
       "      <th>Name</th>\n",
       "      <th>Age</th>\n",
       "    </tr>\n",
       "  </thead>\n",
       "  <tbody>\n",
       "    <tr>\n",
       "      <th>0</th>\n",
       "      <td>Tom</td>\n",
       "      <td>20</td>\n",
       "    </tr>\n",
       "    <tr>\n",
       "      <th>1</th>\n",
       "      <td>nick</td>\n",
       "      <td>21</td>\n",
       "    </tr>\n",
       "  </tbody>\n",
       "</table>\n",
       "</div>"
      ],
      "text/plain": [
       "   Name  Age\n",
       "0   Tom   20\n",
       "1  nick   21"
      ]
     },
     "execution_count": 178,
     "metadata": {},
     "output_type": "execute_result"
    }
   ],
   "source": [
    "# Get rows matching a condition\n",
    "data_1.query('Age >= 20')"
   ]
  },
  {
   "cell_type": "code",
   "execution_count": 182,
   "id": "e410bca5",
   "metadata": {},
   "outputs": [
    {
     "data": {
      "text/html": [
       "<div>\n",
       "<style scoped>\n",
       "    .dataframe tbody tr th:only-of-type {\n",
       "        vertical-align: middle;\n",
       "    }\n",
       "\n",
       "    .dataframe tbody tr th {\n",
       "        vertical-align: top;\n",
       "    }\n",
       "\n",
       "    .dataframe thead th {\n",
       "        text-align: right;\n",
       "    }\n",
       "</style>\n",
       "<table border=\"1\" class=\"dataframe\">\n",
       "  <thead>\n",
       "    <tr style=\"text-align: right;\">\n",
       "      <th></th>\n",
       "      <th>Name</th>\n",
       "    </tr>\n",
       "  </thead>\n",
       "  <tbody>\n",
       "    <tr>\n",
       "      <th>0</th>\n",
       "      <td>Tom</td>\n",
       "    </tr>\n",
       "    <tr>\n",
       "      <th>1</th>\n",
       "      <td>nick</td>\n",
       "    </tr>\n",
       "    <tr>\n",
       "      <th>2</th>\n",
       "      <td>krish</td>\n",
       "    </tr>\n",
       "    <tr>\n",
       "      <th>3</th>\n",
       "      <td>jack</td>\n",
       "    </tr>\n",
       "  </tbody>\n",
       "</table>\n",
       "</div>"
      ],
      "text/plain": [
       "    Name\n",
       "0    Tom\n",
       "1   nick\n",
       "2  krish\n",
       "3   jack"
      ]
     },
     "execution_count": 182,
     "metadata": {},
     "output_type": "execute_result"
    }
   ],
   "source": [
    "# Drop columns by name\n",
    "data_1.drop(columns=[\"Age\"])"
   ]
  },
  {
   "cell_type": "code",
   "execution_count": 185,
   "id": "31288dea",
   "metadata": {},
   "outputs": [
    {
     "data": {
      "text/html": [
       "<div>\n",
       "<style scoped>\n",
       "    .dataframe tbody tr th:only-of-type {\n",
       "        vertical-align: middle;\n",
       "    }\n",
       "\n",
       "    .dataframe tbody tr th {\n",
       "        vertical-align: top;\n",
       "    }\n",
       "\n",
       "    .dataframe thead th {\n",
       "        text-align: right;\n",
       "    }\n",
       "</style>\n",
       "<table border=\"1\" class=\"dataframe\">\n",
       "  <thead>\n",
       "    <tr style=\"text-align: right;\">\n",
       "      <th></th>\n",
       "      <th>Nickname</th>\n",
       "      <th>Age</th>\n",
       "    </tr>\n",
       "  </thead>\n",
       "  <tbody>\n",
       "    <tr>\n",
       "      <th>0</th>\n",
       "      <td>Tom</td>\n",
       "      <td>20</td>\n",
       "    </tr>\n",
       "    <tr>\n",
       "      <th>1</th>\n",
       "      <td>nick</td>\n",
       "      <td>21</td>\n",
       "    </tr>\n",
       "    <tr>\n",
       "      <th>2</th>\n",
       "      <td>krish</td>\n",
       "      <td>19</td>\n",
       "    </tr>\n",
       "    <tr>\n",
       "      <th>3</th>\n",
       "      <td>jack</td>\n",
       "      <td>18</td>\n",
       "    </tr>\n",
       "  </tbody>\n",
       "</table>\n",
       "</div>"
      ],
      "text/plain": [
       "  Nickname  Age\n",
       "0      Tom   20\n",
       "1     nick   21\n",
       "2    krish   19\n",
       "3     jack   18"
      ]
     },
     "execution_count": 185,
     "metadata": {},
     "output_type": "execute_result"
    }
   ],
   "source": [
    "# Rename columns\n",
    "data_1.rename(columns={\"Name\": \"Nickname\"})"
   ]
  },
  {
   "cell_type": "code",
   "execution_count": 191,
   "id": "671acc7a",
   "metadata": {},
   "outputs": [
    {
     "data": {
      "text/html": [
       "<div>\n",
       "<style scoped>\n",
       "    .dataframe tbody tr th:only-of-type {\n",
       "        vertical-align: middle;\n",
       "    }\n",
       "\n",
       "    .dataframe tbody tr th {\n",
       "        vertical-align: top;\n",
       "    }\n",
       "\n",
       "    .dataframe thead th {\n",
       "        text-align: right;\n",
       "    }\n",
       "</style>\n",
       "<table border=\"1\" class=\"dataframe\">\n",
       "  <thead>\n",
       "    <tr style=\"text-align: right;\">\n",
       "      <th></th>\n",
       "      <th>Name</th>\n",
       "      <th>Age</th>\n",
       "      <th>Age_next_year</th>\n",
       "    </tr>\n",
       "  </thead>\n",
       "  <tbody>\n",
       "    <tr>\n",
       "      <th>0</th>\n",
       "      <td>Tom</td>\n",
       "      <td>20</td>\n",
       "      <td>21</td>\n",
       "    </tr>\n",
       "    <tr>\n",
       "      <th>1</th>\n",
       "      <td>nick</td>\n",
       "      <td>21</td>\n",
       "      <td>22</td>\n",
       "    </tr>\n",
       "    <tr>\n",
       "      <th>2</th>\n",
       "      <td>krish</td>\n",
       "      <td>19</td>\n",
       "      <td>20</td>\n",
       "    </tr>\n",
       "    <tr>\n",
       "      <th>3</th>\n",
       "      <td>jack</td>\n",
       "      <td>18</td>\n",
       "      <td>19</td>\n",
       "    </tr>\n",
       "  </tbody>\n",
       "</table>\n",
       "</div>"
      ],
      "text/plain": [
       "    Name  Age  Age_next_year\n",
       "0    Tom   20             21\n",
       "1   nick   21             22\n",
       "2  krish   19             20\n",
       "3   jack   18             19"
      ]
     },
     "execution_count": 191,
     "metadata": {},
     "output_type": "execute_result"
    }
   ],
   "source": [
    "# Add a new column\n",
    "data_1.assign(Age_next_year = data_1['Age'] + 1)"
   ]
  },
  {
   "cell_type": "code",
   "execution_count": 193,
   "id": "3887e302",
   "metadata": {},
   "outputs": [
    {
     "data": {
      "text/plain": [
       "19.5"
      ]
     },
     "execution_count": 193,
     "metadata": {},
     "output_type": "execute_result"
    }
   ],
   "source": [
    "# Calculate mean of a column \n",
    "data_1['Age'].mean()"
   ]
  },
  {
   "cell_type": "code",
   "execution_count": 197,
   "id": "33180627",
   "metadata": {},
   "outputs": [
    {
     "data": {
      "text/html": [
       "<div>\n",
       "<style scoped>\n",
       "    .dataframe tbody tr th:only-of-type {\n",
       "        vertical-align: middle;\n",
       "    }\n",
       "\n",
       "    .dataframe tbody tr th {\n",
       "        vertical-align: top;\n",
       "    }\n",
       "\n",
       "    .dataframe thead th {\n",
       "        text-align: right;\n",
       "    }\n",
       "</style>\n",
       "<table border=\"1\" class=\"dataframe\">\n",
       "  <thead>\n",
       "    <tr style=\"text-align: right;\">\n",
       "      <th></th>\n",
       "      <th>a</th>\n",
       "      <th>b</th>\n",
       "      <th>c</th>\n",
       "    </tr>\n",
       "  </thead>\n",
       "  <tbody>\n",
       "    <tr>\n",
       "      <th>0</th>\n",
       "      <td>1</td>\n",
       "      <td>2</td>\n",
       "      <td>3</td>\n",
       "    </tr>\n",
       "    <tr>\n",
       "      <th>1</th>\n",
       "      <td>10</td>\n",
       "      <td>20</td>\n",
       "      <td>30</td>\n",
       "    </tr>\n",
       "  </tbody>\n",
       "</table>\n",
       "</div>"
      ],
      "text/plain": [
       "    a   b   c\n",
       "0   1   2   3\n",
       "1  10  20  30"
      ]
     },
     "execution_count": 197,
     "metadata": {},
     "output_type": "execute_result"
    }
   ],
   "source": [
    "# Create numerical dataframe\n",
    "data_num = pd.DataFrame ([{'a': 1, 'b': 2, 'c': 3},\n",
    "        {'a': 10, 'b': 20, 'c': 30}])\n",
    "data_num"
   ]
  },
  {
   "cell_type": "code",
   "execution_count": 198,
   "id": "8f731ba6",
   "metadata": {},
   "outputs": [
    {
     "data": {
      "text/plain": [
       "a     5.5\n",
       "b    11.0\n",
       "c    16.5\n",
       "dtype: float64"
      ]
     },
     "execution_count": 198,
     "metadata": {},
     "output_type": "execute_result"
    }
   ],
   "source": [
    "# Calculate mean of each column\n",
    "data_num.mean()"
   ]
  },
  {
   "cell_type": "code",
   "execution_count": 200,
   "id": "b413f023",
   "metadata": {},
   "outputs": [
    {
     "data": {
      "text/html": [
       "<div>\n",
       "<style scoped>\n",
       "    .dataframe tbody tr th:only-of-type {\n",
       "        vertical-align: middle;\n",
       "    }\n",
       "\n",
       "    .dataframe tbody tr th {\n",
       "        vertical-align: top;\n",
       "    }\n",
       "\n",
       "    .dataframe thead th {\n",
       "        text-align: right;\n",
       "    }\n",
       "</style>\n",
       "<table border=\"1\" class=\"dataframe\">\n",
       "  <thead>\n",
       "    <tr style=\"text-align: right;\">\n",
       "      <th></th>\n",
       "      <th>a</th>\n",
       "      <th>b</th>\n",
       "      <th>c</th>\n",
       "    </tr>\n",
       "  </thead>\n",
       "  <tbody>\n",
       "    <tr>\n",
       "      <th>sum</th>\n",
       "      <td>11</td>\n",
       "      <td>22</td>\n",
       "      <td>33</td>\n",
       "    </tr>\n",
       "    <tr>\n",
       "      <th>min</th>\n",
       "      <td>1</td>\n",
       "      <td>2</td>\n",
       "      <td>3</td>\n",
       "    </tr>\n",
       "  </tbody>\n",
       "</table>\n",
       "</div>"
      ],
      "text/plain": [
       "      a   b   c\n",
       "sum  11  22  33\n",
       "min   1   2   3"
      ]
     },
     "execution_count": 200,
     "metadata": {},
     "output_type": "execute_result"
    }
   ],
   "source": [
    "# Get summary statistics by column\n",
    "data_num.agg(['sum', 'min'])"
   ]
  },
  {
   "cell_type": "code",
   "execution_count": 203,
   "id": "349a9bf4",
   "metadata": {},
   "outputs": [],
   "source": [
    "# add a new row at the end\n",
    "data_num.loc[len(data_num.index)] = [1, 2, 3]"
   ]
  },
  {
   "cell_type": "code",
   "execution_count": 204,
   "id": "01d9a00b",
   "metadata": {},
   "outputs": [
    {
     "data": {
      "text/html": [
       "<div>\n",
       "<style scoped>\n",
       "    .dataframe tbody tr th:only-of-type {\n",
       "        vertical-align: middle;\n",
       "    }\n",
       "\n",
       "    .dataframe tbody tr th {\n",
       "        vertical-align: top;\n",
       "    }\n",
       "\n",
       "    .dataframe thead th {\n",
       "        text-align: right;\n",
       "    }\n",
       "</style>\n",
       "<table border=\"1\" class=\"dataframe\">\n",
       "  <thead>\n",
       "    <tr style=\"text-align: right;\">\n",
       "      <th></th>\n",
       "      <th>a</th>\n",
       "      <th>b</th>\n",
       "      <th>c</th>\n",
       "    </tr>\n",
       "  </thead>\n",
       "  <tbody>\n",
       "    <tr>\n",
       "      <th>0</th>\n",
       "      <td>1</td>\n",
       "      <td>2</td>\n",
       "      <td>3</td>\n",
       "    </tr>\n",
       "    <tr>\n",
       "      <th>1</th>\n",
       "      <td>10</td>\n",
       "      <td>20</td>\n",
       "      <td>30</td>\n",
       "    </tr>\n",
       "    <tr>\n",
       "      <th>2</th>\n",
       "      <td>1</td>\n",
       "      <td>2</td>\n",
       "      <td>3</td>\n",
       "    </tr>\n",
       "    <tr>\n",
       "      <th>3</th>\n",
       "      <td>1</td>\n",
       "      <td>2</td>\n",
       "      <td>3</td>\n",
       "    </tr>\n",
       "  </tbody>\n",
       "</table>\n",
       "</div>"
      ],
      "text/plain": [
       "    a   b   c\n",
       "0   1   2   3\n",
       "1  10  20  30\n",
       "2   1   2   3\n",
       "3   1   2   3"
      ]
     },
     "execution_count": 204,
     "metadata": {},
     "output_type": "execute_result"
    }
   ],
   "source": [
    "data_num"
   ]
  },
  {
   "cell_type": "code",
   "execution_count": 205,
   "id": "66f9a78f",
   "metadata": {},
   "outputs": [
    {
     "data": {
      "text/html": [
       "<div>\n",
       "<style scoped>\n",
       "    .dataframe tbody tr th:only-of-type {\n",
       "        vertical-align: middle;\n",
       "    }\n",
       "\n",
       "    .dataframe tbody tr th {\n",
       "        vertical-align: top;\n",
       "    }\n",
       "\n",
       "    .dataframe thead th {\n",
       "        text-align: right;\n",
       "    }\n",
       "</style>\n",
       "<table border=\"1\" class=\"dataframe\">\n",
       "  <thead>\n",
       "    <tr style=\"text-align: right;\">\n",
       "      <th></th>\n",
       "      <th>a</th>\n",
       "      <th>b</th>\n",
       "      <th>c</th>\n",
       "    </tr>\n",
       "  </thead>\n",
       "  <tbody>\n",
       "    <tr>\n",
       "      <th>0</th>\n",
       "      <td>1</td>\n",
       "      <td>2</td>\n",
       "      <td>3</td>\n",
       "    </tr>\n",
       "    <tr>\n",
       "      <th>1</th>\n",
       "      <td>10</td>\n",
       "      <td>20</td>\n",
       "      <td>30</td>\n",
       "    </tr>\n",
       "  </tbody>\n",
       "</table>\n",
       "</div>"
      ],
      "text/plain": [
       "    a   b   c\n",
       "0   1   2   3\n",
       "1  10  20  30"
      ]
     },
     "execution_count": 205,
     "metadata": {},
     "output_type": "execute_result"
    }
   ],
   "source": [
    "# Get unique rows\n",
    "data_num.drop_duplicates()"
   ]
  },
  {
   "cell_type": "code",
   "execution_count": 207,
   "id": "c6000d50",
   "metadata": {},
   "outputs": [
    {
     "data": {
      "text/html": [
       "<div>\n",
       "<style scoped>\n",
       "    .dataframe tbody tr th:only-of-type {\n",
       "        vertical-align: middle;\n",
       "    }\n",
       "\n",
       "    .dataframe tbody tr th {\n",
       "        vertical-align: top;\n",
       "    }\n",
       "\n",
       "    .dataframe thead th {\n",
       "        text-align: right;\n",
       "    }\n",
       "</style>\n",
       "<table border=\"1\" class=\"dataframe\">\n",
       "  <thead>\n",
       "    <tr style=\"text-align: right;\">\n",
       "      <th></th>\n",
       "      <th>a</th>\n",
       "      <th>b</th>\n",
       "      <th>c</th>\n",
       "    </tr>\n",
       "  </thead>\n",
       "  <tbody>\n",
       "    <tr>\n",
       "      <th>0</th>\n",
       "      <td>1</td>\n",
       "      <td>2</td>\n",
       "      <td>3</td>\n",
       "    </tr>\n",
       "    <tr>\n",
       "      <th>2</th>\n",
       "      <td>1</td>\n",
       "      <td>2</td>\n",
       "      <td>3</td>\n",
       "    </tr>\n",
       "    <tr>\n",
       "      <th>3</th>\n",
       "      <td>1</td>\n",
       "      <td>2</td>\n",
       "      <td>3</td>\n",
       "    </tr>\n",
       "    <tr>\n",
       "      <th>1</th>\n",
       "      <td>10</td>\n",
       "      <td>20</td>\n",
       "      <td>30</td>\n",
       "    </tr>\n",
       "  </tbody>\n",
       "</table>\n",
       "</div>"
      ],
      "text/plain": [
       "    a   b   c\n",
       "0   1   2   3\n",
       "2   1   2   3\n",
       "3   1   2   3\n",
       "1  10  20  30"
      ]
     },
     "execution_count": 207,
     "metadata": {},
     "output_type": "execute_result"
    }
   ],
   "source": [
    "# sort values in a column\n",
    "data_num.sort_values(by= 'c')"
   ]
  },
  {
   "cell_type": "code",
   "execution_count": 210,
   "id": "466bcf46",
   "metadata": {},
   "outputs": [
    {
     "data": {
      "text/html": [
       "<div>\n",
       "<style scoped>\n",
       "    .dataframe tbody tr th:only-of-type {\n",
       "        vertical-align: middle;\n",
       "    }\n",
       "\n",
       "    .dataframe tbody tr th {\n",
       "        vertical-align: top;\n",
       "    }\n",
       "\n",
       "    .dataframe thead th {\n",
       "        text-align: right;\n",
       "    }\n",
       "</style>\n",
       "<table border=\"1\" class=\"dataframe\">\n",
       "  <thead>\n",
       "    <tr style=\"text-align: right;\">\n",
       "      <th></th>\n",
       "      <th>a</th>\n",
       "      <th>b</th>\n",
       "      <th>c</th>\n",
       "    </tr>\n",
       "  </thead>\n",
       "  <tbody>\n",
       "    <tr>\n",
       "      <th>1</th>\n",
       "      <td>10</td>\n",
       "      <td>20</td>\n",
       "      <td>30</td>\n",
       "    </tr>\n",
       "    <tr>\n",
       "      <th>0</th>\n",
       "      <td>1</td>\n",
       "      <td>2</td>\n",
       "      <td>3</td>\n",
       "    </tr>\n",
       "  </tbody>\n",
       "</table>\n",
       "</div>"
      ],
      "text/plain": [
       "    a   b   c\n",
       "1  10  20  30\n",
       "0   1   2   3"
      ]
     },
     "execution_count": 210,
     "metadata": {},
     "output_type": "execute_result"
    }
   ],
   "source": [
    "# Get rows with largest values in a column\n",
    "data_num.nlargest(2, 'c')"
   ]
  },
  {
   "cell_type": "code",
   "execution_count": null,
   "id": "1b5d0964",
   "metadata": {},
   "outputs": [],
   "source": []
  }
 ],
 "metadata": {
  "kernelspec": {
   "display_name": "Python 3 (ipykernel)",
   "language": "python",
   "name": "python3"
  },
  "language_info": {
   "codemirror_mode": {
    "name": "ipython",
    "version": 3
   },
   "file_extension": ".py",
   "mimetype": "text/x-python",
   "name": "python",
   "nbconvert_exporter": "python",
   "pygments_lexer": "ipython3",
   "version": "3.11.4"
  }
 },
 "nbformat": 4,
 "nbformat_minor": 5
}
